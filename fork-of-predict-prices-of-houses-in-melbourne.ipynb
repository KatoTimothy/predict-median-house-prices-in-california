{
 "cells": [
  {
   "cell_type": "markdown",
   "id": "335f5fab",
   "metadata": {
    "papermill": {
     "duration": 0.004303,
     "end_time": "2022-10-29T04:28:07.993044",
     "exception": false,
     "start_time": "2022-10-29T04:28:07.988741",
     "status": "completed"
    },
    "tags": []
   },
   "source": [
    "Predicting Housing Prices in Melbourne"
   ]
  },
  {
   "cell_type": "code",
   "execution_count": 1,
   "id": "5d9c5af8",
   "metadata": {
    "execution": {
     "iopub.execute_input": "2022-10-29T04:28:08.001847Z",
     "iopub.status.busy": "2022-10-29T04:28:08.001346Z",
     "iopub.status.idle": "2022-10-29T04:28:09.545547Z",
     "shell.execute_reply": "2022-10-29T04:28:09.544377Z"
    },
    "papermill": {
     "duration": 1.552067,
     "end_time": "2022-10-29T04:28:09.548537",
     "exception": false,
     "start_time": "2022-10-29T04:28:07.996470",
     "status": "completed"
    },
    "tags": []
   },
   "outputs": [],
   "source": [
    "#python imports\n",
    "import pandas as pd\n",
    "import os\n",
    "import numpy as np\n",
    "from matplotlib import pyplot as plt \n",
    "from xgboost import XGBRegressor\n",
    "\n",
    "#sklearn imports\n",
    "from sklearn.impute import SimpleImputer\n",
    "from sklearn.compose import ColumnTransformer, make_column_selector, make_column_transformer\n",
    "from sklearn.preprocessing import OneHotEncoder, StandardScaler\n",
    "from sklearn.ensemble import RandomForestRegressor\n",
    "from sklearn.linear_model import LinearRegression, Ridge\n",
    "from sklearn.feature_selection import mutual_info_regression\n",
    "from sklearn.model_selection import cross_val_score, train_test_split, RepeatedKFold\n",
    "from sklearn.metrics import mean_absolute_error\n",
    "from sklearn.pipeline import make_pipeline, Pipeline\n",
    "import seaborn as sns\n"
   ]
  },
  {
   "cell_type": "code",
   "execution_count": 2,
   "id": "9ee11724",
   "metadata": {
    "execution": {
     "iopub.execute_input": "2022-10-29T04:28:09.557188Z",
     "iopub.status.busy": "2022-10-29T04:28:09.556346Z",
     "iopub.status.idle": "2022-10-29T04:28:09.697783Z",
     "shell.execute_reply": "2022-10-29T04:28:09.696588Z"
    },
    "papermill": {
     "duration": 0.148726,
     "end_time": "2022-10-29T04:28:09.700565",
     "exception": false,
     "start_time": "2022-10-29T04:28:09.551839",
     "status": "completed"
    },
    "tags": []
   },
   "outputs": [
    {
     "data": {
      "text/html": [
       "<div>\n",
       "<style scoped>\n",
       "    .dataframe tbody tr th:only-of-type {\n",
       "        vertical-align: middle;\n",
       "    }\n",
       "\n",
       "    .dataframe tbody tr th {\n",
       "        vertical-align: top;\n",
       "    }\n",
       "\n",
       "    .dataframe thead th {\n",
       "        text-align: right;\n",
       "    }\n",
       "</style>\n",
       "<table border=\"1\" class=\"dataframe\">\n",
       "  <thead>\n",
       "    <tr style=\"text-align: right;\">\n",
       "      <th></th>\n",
       "      <th>Suburb</th>\n",
       "      <th>Rooms</th>\n",
       "      <th>Type</th>\n",
       "      <th>Price</th>\n",
       "      <th>Method</th>\n",
       "      <th>SellerG</th>\n",
       "      <th>Date</th>\n",
       "      <th>Distance</th>\n",
       "      <th>Postcode</th>\n",
       "      <th>Bedroom2</th>\n",
       "      <th>Bathroom</th>\n",
       "      <th>Car</th>\n",
       "      <th>Landsize</th>\n",
       "      <th>BuildingArea</th>\n",
       "      <th>YearBuilt</th>\n",
       "      <th>CouncilArea</th>\n",
       "      <th>Lattitude</th>\n",
       "      <th>Longtitude</th>\n",
       "      <th>Regionname</th>\n",
       "      <th>Propertycount</th>\n",
       "    </tr>\n",
       "  </thead>\n",
       "  <tbody>\n",
       "    <tr>\n",
       "      <th>0</th>\n",
       "      <td>Abbotsford</td>\n",
       "      <td>2</td>\n",
       "      <td>h</td>\n",
       "      <td>1480000</td>\n",
       "      <td>S</td>\n",
       "      <td>Biggin</td>\n",
       "      <td>03/12/2016</td>\n",
       "      <td>2.5</td>\n",
       "      <td>3067</td>\n",
       "      <td>2</td>\n",
       "      <td>1</td>\n",
       "      <td>1.0</td>\n",
       "      <td>202</td>\n",
       "      <td>NaN</td>\n",
       "      <td>NaN</td>\n",
       "      <td>Yarra</td>\n",
       "      <td>-37.7996</td>\n",
       "      <td>144.9984</td>\n",
       "      <td>Northern Metropolitan</td>\n",
       "      <td>4019</td>\n",
       "    </tr>\n",
       "    <tr>\n",
       "      <th>1</th>\n",
       "      <td>Abbotsford</td>\n",
       "      <td>2</td>\n",
       "      <td>h</td>\n",
       "      <td>1035000</td>\n",
       "      <td>S</td>\n",
       "      <td>Biggin</td>\n",
       "      <td>04/02/2016</td>\n",
       "      <td>2.5</td>\n",
       "      <td>3067</td>\n",
       "      <td>2</td>\n",
       "      <td>1</td>\n",
       "      <td>0.0</td>\n",
       "      <td>156</td>\n",
       "      <td>79.0</td>\n",
       "      <td>1900.0</td>\n",
       "      <td>Yarra</td>\n",
       "      <td>-37.8079</td>\n",
       "      <td>144.9934</td>\n",
       "      <td>Northern Metropolitan</td>\n",
       "      <td>4019</td>\n",
       "    </tr>\n",
       "  </tbody>\n",
       "</table>\n",
       "</div>"
      ],
      "text/plain": [
       "       Suburb  Rooms Type    Price Method SellerG        Date  Distance  \\\n",
       "0  Abbotsford      2    h  1480000      S  Biggin  03/12/2016       2.5   \n",
       "1  Abbotsford      2    h  1035000      S  Biggin  04/02/2016       2.5   \n",
       "\n",
       "   Postcode  Bedroom2  Bathroom  Car  Landsize  BuildingArea  YearBuilt  \\\n",
       "0      3067         2         1  1.0       202           NaN        NaN   \n",
       "1      3067         2         1  0.0       156          79.0     1900.0   \n",
       "\n",
       "  CouncilArea  Lattitude  Longtitude             Regionname  Propertycount  \n",
       "0       Yarra   -37.7996    144.9984  Northern Metropolitan           4019  \n",
       "1       Yarra   -37.8079    144.9934  Northern Metropolitan           4019  "
      ]
     },
     "execution_count": 2,
     "metadata": {},
     "output_type": "execute_result"
    }
   ],
   "source": [
    "DATA_URL = \"../input/housing/melb_housing_data.csv\"\n",
    "                        \n",
    "def wrangle(data_url = DATA_URL):\n",
    "    df = pd.read_csv(data_url)\n",
    "\n",
    "    #remove high dimensionality feature\n",
    "    df.drop(columns=[\"Address\"], inplace=True)\n",
    "    return df\n",
    "\n",
    "data = wrangle()\n",
    "data.head(2)"
   ]
  },
  {
   "cell_type": "code",
   "execution_count": 3,
   "id": "af27f225",
   "metadata": {
    "execution": {
     "iopub.execute_input": "2022-10-29T04:28:09.709364Z",
     "iopub.status.busy": "2022-10-29T04:28:09.708983Z",
     "iopub.status.idle": "2022-10-29T04:28:09.716386Z",
     "shell.execute_reply": "2022-10-29T04:28:09.715427Z"
    },
    "papermill": {
     "duration": 0.014494,
     "end_time": "2022-10-29T04:28:09.718786",
     "exception": false,
     "start_time": "2022-10-29T04:28:09.704292",
     "status": "completed"
    },
    "tags": []
   },
   "outputs": [],
   "source": [
    "#specify the feature matrix and target vector\n",
    "#feature matrix\n",
    "X = data.copy()\n",
    "\n",
    "#target vector\n",
    "y= X.pop(\"Price\")\n"
   ]
  },
  {
   "cell_type": "markdown",
   "id": "1c04cf9a",
   "metadata": {
    "papermill": {
     "duration": 0.003211,
     "end_time": "2022-10-29T04:28:09.725415",
     "exception": false,
     "start_time": "2022-10-29T04:28:09.722204",
     "status": "completed"
    },
    "tags": []
   },
   "source": [
    "Process(transform) the Data with pipelines"
   ]
  },
  {
   "cell_type": "code",
   "execution_count": 4,
   "id": "e7ffa989",
   "metadata": {
    "execution": {
     "iopub.execute_input": "2022-10-29T04:28:09.734530Z",
     "iopub.status.busy": "2022-10-29T04:28:09.733444Z",
     "iopub.status.idle": "2022-10-29T04:28:09.740795Z",
     "shell.execute_reply": "2022-10-29T04:28:09.739626Z"
    },
    "papermill": {
     "duration": 0.014509,
     "end_time": "2022-10-29T04:28:09.743300",
     "exception": false,
     "start_time": "2022-10-29T04:28:09.728791",
     "status": "completed"
    },
    "tags": []
   },
   "outputs": [],
   "source": [
    "#Pipeline that transforms numerical data by filling missing data with mean of the column\n",
    "# and also applies standard scaler such that the data has uniform scale\n",
    "num_pipeline = make_pipeline(\n",
    "    SimpleImputer(strategy= 'mean'),\n",
    "    StandardScaler()\n",
    ")\n",
    "\n",
    "#Pipeline transforms categorical data by\n",
    "#filling the missing data with most frequent value\n",
    "#and applys one hot encoder to it\n",
    "cat_pipeline = make_pipeline(\n",
    "    OneHotEncoder(handle_unknown='ignore'),\n",
    "    SimpleImputer(strategy=\"most_frequent\")\n",
    ")\n",
    "\n",
    "#preprocessing full pipeline \n",
    "preprocessor = make_column_transformer( \n",
    "    ( num_pipeline, make_column_selector(dtype_include= np.number)),\n",
    "    (cat_pipeline, make_column_selector(dtype_exclude= np.number))\n",
    ")"
   ]
  },
  {
   "cell_type": "code",
   "execution_count": 5,
   "id": "0e936638",
   "metadata": {
    "execution": {
     "iopub.execute_input": "2022-10-29T04:28:09.752046Z",
     "iopub.status.busy": "2022-10-29T04:28:09.751633Z",
     "iopub.status.idle": "2022-10-29T04:28:09.761848Z",
     "shell.execute_reply": "2022-10-29T04:28:09.760704Z"
    },
    "papermill": {
     "duration": 0.017441,
     "end_time": "2022-10-29T04:28:09.764267",
     "exception": false,
     "start_time": "2022-10-29T04:28:09.746826",
     "status": "completed"
    },
    "tags": []
   },
   "outputs": [
    {
     "data": {
      "text/plain": [
       "462213.67024240794"
      ]
     },
     "execution_count": 5,
     "metadata": {},
     "output_type": "execute_result"
    }
   ],
   "source": [
    "#baseline model\n",
    "baseline_predictions = [y.mean()]*len(y)\n",
    "baseline_prediction_score = mean_absolute_error(y, baseline_predictions)\n",
    "baseline_prediction_score"
   ]
  },
  {
   "cell_type": "code",
   "execution_count": 6,
   "id": "a8d67f44",
   "metadata": {
    "execution": {
     "iopub.execute_input": "2022-10-29T04:28:09.773559Z",
     "iopub.status.busy": "2022-10-29T04:28:09.772846Z",
     "iopub.status.idle": "2022-10-29T04:28:09.778350Z",
     "shell.execute_reply": "2022-10-29T04:28:09.777520Z"
    },
    "papermill": {
     "duration": 0.012705,
     "end_time": "2022-10-29T04:28:09.780568",
     "exception": false,
     "start_time": "2022-10-29T04:28:09.767863",
     "status": "completed"
    },
    "tags": []
   },
   "outputs": [],
   "source": [
    "#Define prospective models\n",
    "random_forest_reg = make_pipeline(preprocessor, RandomForestRegressor())\n",
    "ridge_regressor = make_pipeline(preprocessor, Ridge())\n",
    "xgboost_reg = make_pipeline(preprocessor, XGBRegressor(\n",
    "    n_estimators =500,\n",
    "    eta = 0.01\n",
    "))\n"
   ]
  },
  {
   "cell_type": "markdown",
   "id": "006916f7",
   "metadata": {
    "papermill": {
     "duration": 0.003195,
     "end_time": "2022-10-29T04:28:09.787347",
     "exception": false,
     "start_time": "2022-10-29T04:28:09.784152",
     "status": "completed"
    },
    "tags": []
   },
   "source": [
    "Evaluate model"
   ]
  },
  {
   "cell_type": "code",
   "execution_count": 7,
   "id": "9520c4b1",
   "metadata": {
    "execution": {
     "iopub.execute_input": "2022-10-29T04:28:09.796305Z",
     "iopub.status.busy": "2022-10-29T04:28:09.795643Z",
     "iopub.status.idle": "2022-10-29T04:30:09.108475Z",
     "shell.execute_reply": "2022-10-29T04:30:09.107213Z"
    },
    "papermill": {
     "duration": 119.323669,
     "end_time": "2022-10-29T04:30:09.114403",
     "exception": false,
     "start_time": "2022-10-29T04:28:09.790734",
     "status": "completed"
    },
    "tags": []
   },
   "outputs": [
    {
     "data": {
      "text/plain": [
       "count        15.00\n",
       "mean     169653.23\n",
       "std        2214.50\n",
       "min      166134.07\n",
       "25%      168560.52\n",
       "50%      169236.06\n",
       "75%      170518.33\n",
       "max      174057.93\n",
       "dtype: float64"
      ]
     },
     "execution_count": 7,
     "metadata": {},
     "output_type": "execute_result"
    }
   ],
   "source": [
    "#Evaluate the model by obtaining mean squared error metric\n",
    "cv = RepeatedKFold(n_splits= 5, n_repeats= 3) #cross validation configuration\n",
    "pred_scores = cross_val_score(xgboost_reg, X, y, scoring=\"neg_mean_absolute_error\", cv=cv)\n",
    "\n",
    "pd.Series(pred_scores).abs().describe().round(2)\n"
   ]
  }
 ],
 "metadata": {
  "kernelspec": {
   "display_name": "Python 3",
   "language": "python",
   "name": "python3"
  },
  "language_info": {
   "codemirror_mode": {
    "name": "ipython",
    "version": 3
   },
   "file_extension": ".py",
   "mimetype": "text/x-python",
   "name": "python",
   "nbconvert_exporter": "python",
   "pygments_lexer": "ipython3",
   "version": "3.7.12"
  },
  "papermill": {
   "default_parameters": {},
   "duration": 130.48662,
   "end_time": "2022-10-29T04:30:09.840059",
   "environment_variables": {},
   "exception": null,
   "input_path": "__notebook__.ipynb",
   "output_path": "__notebook__.ipynb",
   "parameters": {},
   "start_time": "2022-10-29T04:27:59.353439",
   "version": "2.3.4"
  }
 },
 "nbformat": 4,
 "nbformat_minor": 5
}
